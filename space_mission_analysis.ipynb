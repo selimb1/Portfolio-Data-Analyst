{
 "cells": [
  {
   "cell_type": "markdown",
   "metadata": {},
   "source": [
    "## Guiding questions"
   ]
  },
  {
   "cell_type": "code",
   "execution_count": 18,
   "metadata": {},
   "outputs": [],
   "source": [
    "import pandas as pd\n",
    "\n",
    "# Cargar el archivo CSV\n",
    "file_path = '/Users/selimbarcat/Desktop/Trabajo/analisis de datos curso/mission_launches.csv'\n",
    "df = pd.read_csv(file_path)\n",
    "\n",
    "# Convertir la columna de fecha a formato datetime\n",
    "df['Date'] = pd.to_datetime(df['Date'], errors='coerce')\n",
    "\n",
    "# Extraer el año y mes de la fecha\n",
    "df['Year'] = df['Date'].dt.year\n",
    "df['Month'] = df['Date'].dt.month\n",
    "\n",
    "# Convertir la columna de precio a numérico, ignorando errores\n",
    "df['Price'] = pd.to_numeric(df['Price'], errors='coerce')"
   ]
  },
  {
   "cell_type": "code",
   "execution_count": 19,
   "metadata": {},
   "outputs": [
    {
     "name": "stdout",
     "output_type": "stream",
     "text": [
      "Organizacion con mas misiones en 2020: CASC\n"
     ]
    }
   ],
   "source": [
    "# 1. Organizacion con mas misiones en un año determinado\n",
    "def org_mas_misiones(year):\n",
    "    return df[df['Year'] == year]['Organisation'].value_counts().idxmax()\n",
    "\n",
    "# Mostrar resultados\n",
    "print(\"Organizacion con mas misiones en 2020:\", org_mas_misiones(2020))"
   ]
  },
  {
   "cell_type": "code",
   "execution_count": 20,
   "metadata": {},
   "outputs": [
    {
     "name": "stdout",
     "output_type": "stream",
     "text": [
      "Lanzamientos por año:\n",
      " Year\n",
      "1957.0      3\n",
      "1958.0     22\n",
      "1959.0     20\n",
      "1960.0     38\n",
      "1961.0     52\n",
      "         ... \n",
      "2016.0     88\n",
      "2017.0     90\n",
      "2018.0    117\n",
      "2019.0    107\n",
      "2020.0     63\n",
      "Length: 64, dtype: int64\n"
     ]
    }
   ],
   "source": [
    "# 2. Cantidad de lanzamientos por año\n",
    "lanzamientos_por_anio = df.groupby('Year').size()\n",
    "\n",
    "print(\"Lanzamientos por año:\\n\", lanzamientos_por_anio)\n"
   ]
  },
  {
   "cell_type": "code",
   "execution_count": 21,
   "metadata": {},
   "outputs": [
    {
     "name": "stdout",
     "output_type": "stream",
     "text": [
      "Costo promedio de misiones por año:\n",
      " Year\n",
      "1957.0          NaN\n",
      "1958.0          NaN\n",
      "1959.0          NaN\n",
      "1960.0          NaN\n",
      "1961.0          NaN\n",
      "            ...    \n",
      "2016.0    79.457344\n",
      "2017.0    69.491061\n",
      "2018.0    64.749773\n",
      "2019.0    59.609726\n",
      "2020.0    56.650192\n",
      "Name: Price, Length: 64, dtype: float64\n"
     ]
    }
   ],
   "source": [
    "# 3. Variación del costo de misiones a lo largo del tiempo\n",
    "costo_por_anio = df.groupby('Year')['Price'].mean()\n",
    "\n",
    "print(\"Costo promedio de misiones por año:\\n\", costo_por_anio)\n"
   ]
  },
  {
   "cell_type": "code",
   "execution_count": 22,
   "metadata": {},
   "outputs": [
    {
     "name": "stdout",
     "output_type": "stream",
     "text": [
      "Mes mas popular para lanzamientos: 12.0\n"
     ]
    }
   ],
   "source": [
    "# 4. Meses más populares para lanzamientos\n",
    "meses_populares = df['Month'].value_counts().idxmax()\n",
    "\n",
    "print(\"Mes mas popular para lanzamientos:\", meses_populares)\n"
   ]
  },
  {
   "cell_type": "code",
   "execution_count": 23,
   "metadata": {},
   "outputs": [
    {
     "name": "stdout",
     "output_type": "stream",
     "text": [
      "Fracasos por año:\n",
      " Year\n",
      "1957.0     1\n",
      "1958.0    16\n",
      "1959.0    12\n",
      "1960.0    19\n",
      "1961.0    20\n",
      "          ..\n",
      "2016.0     4\n",
      "2017.0     7\n",
      "2018.0     4\n",
      "2019.0     7\n",
      "2020.0     6\n",
      "Length: 64, dtype: int64\n"
     ]
    }
   ],
   "source": [
    "# 5. Seguridad de misiones (análisis de fracasos por año)\n",
    "def fracasos_por_anio():\n",
    "    return df[df['Mission_Status'] != 'Success'].groupby('Year').size()\n",
    "\n",
    "print(\"Fracasos por año:\\n\", fracasos_por_anio())\n"
   ]
  },
  {
   "cell_type": "code",
   "execution_count": null,
   "metadata": {},
   "outputs": [],
   "source": []
  }
 ],
 "metadata": {
  "kernelspec": {
   "display_name": "Python 3",
   "language": "python",
   "name": "python3"
  },
  "language_info": {
   "codemirror_mode": {
    "name": "ipython",
    "version": 3
   },
   "file_extension": ".py",
   "mimetype": "text/x-python",
   "name": "python",
   "nbconvert_exporter": "python",
   "pygments_lexer": "ipython3",
   "version": "3.13.1"
  }
 },
 "nbformat": 4,
 "nbformat_minor": 2
}
